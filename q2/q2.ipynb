{
 "cells": [
  {
   "cell_type": "code",
   "execution_count": 10,
   "id": "f8c75de0",
   "metadata": {},
   "outputs": [
    {
     "name": "stdout",
     "output_type": "stream",
     "text": [
      "doc0:0.58\n",
      "doc1:0.87\n"
     ]
    }
   ],
   "source": [
    "import numpy as np\n",
    "\n",
    "def Cos(doc,query):\n",
    "    norm_doc = np.linalg.norm(doc)\n",
    "    norm_query = np.linalg.norm(query)\n",
    "    norm = norm_doc*norm_query\n",
    "    dproduct = np.dot(doc.T,query)\n",
    "    return dproduct/norm\n",
    "\n",
    "def main():\n",
    "    Docs= np.array([[1,1,0,1,0,1],[1,1,1,0,1,0],[1,1,0,1,0,0]])\n",
    "    Query=np.array([1,1,0,0,1,0])\n",
    "    for i in range(Docs.ndim):\n",
    "        print(\"doc%d:%.2f\"%(i,round(Cos(Docs[i,:],Query),2)))\n",
    "    \n",
    "if __name__==\"__main__\":\n",
    "    main()"
   ]
  }
 ],
 "metadata": {
  "kernelspec": {
   "display_name": "Python 3 (ipykernel)",
   "language": "python",
   "name": "python3"
  },
  "language_info": {
   "codemirror_mode": {
    "name": "ipython",
    "version": 3
   },
   "file_extension": ".py",
   "mimetype": "text/x-python",
   "name": "python",
   "nbconvert_exporter": "python",
   "pygments_lexer": "ipython3",
   "version": "3.11.2"
  }
 },
 "nbformat": 4,
 "nbformat_minor": 5
}
