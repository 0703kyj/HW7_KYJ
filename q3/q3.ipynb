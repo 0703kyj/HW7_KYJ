{
 "cells": [
  {
   "cell_type": "code",
   "execution_count": 6,
   "id": "2f86cf9f",
   "metadata": {},
   "outputs": [
    {
     "name": "stdout",
     "output_type": "stream",
     "text": [
      "1 : \n",
      "        unit price  number\n",
      "store1        1000      25\n",
      "store2         280     120\n",
      "store3         900      30\n",
      "\n",
      "2 : \n",
      "        unit price  number  total price\n",
      "store1        1000      25        25000\n",
      "store2         280     120        33600\n",
      "store3         900      30        27000\n",
      "\n",
      "3 : \n",
      "        unit price  number  total price\n",
      "store2         280     120        33600\n",
      "store3         900      30        27000\n"
     ]
    }
   ],
   "source": [
    "import numpy as np\n",
    "import pandas as pd\n",
    "\n",
    "def main():\n",
    "    arr = np.array([[1000,25],[280,120],[900,30]])\n",
    "    df = pd.DataFrame(arr,index=['store1','store2','store3'],columns=['unit price','number'])\n",
    "    print(\"1 : \")\n",
    "    print(df)\n",
    "    df['total price']=df['unit price']*df['number']\n",
    "    print(\"\\n2 : \")\n",
    "    print(df)\n",
    "    df2 = df.sort_values(by='total price',ascending=False)\n",
    "    print(\"\\n3 : \")\n",
    "    print(df2.head(2))\n",
    "if __name__==\"__main__\":\n",
    "    main()"
   ]
  }
 ],
 "metadata": {
  "kernelspec": {
   "display_name": "Python 3 (ipykernel)",
   "language": "python",
   "name": "python3"
  },
  "language_info": {
   "codemirror_mode": {
    "name": "ipython",
    "version": 3
   },
   "file_extension": ".py",
   "mimetype": "text/x-python",
   "name": "python",
   "nbconvert_exporter": "python",
   "pygments_lexer": "ipython3",
   "version": "3.11.2"
  }
 },
 "nbformat": 4,
 "nbformat_minor": 5
}
