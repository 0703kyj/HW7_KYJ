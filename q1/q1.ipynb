{
 "cells": [
  {
   "cell_type": "code",
   "execution_count": 7,
   "id": "81c28c1a",
   "metadata": {},
   "outputs": [
    {
     "name": "stdout",
     "output_type": "stream",
     "text": [
      "Eigenvalues: [-0.37228132  5.37228132]\n",
      "Eigenvectors:\n",
      " [[-0.82456484 -0.41597356]\n",
      " [ 0.56576746 -0.90937671]]\n",
      "Determinant: -2.0000000000000004\n",
      "Cross product: 32\n",
      "Solution: [-1. -4.  3.]\n"
     ]
    }
   ],
   "source": [
    "import numpy as np\n",
    "\n",
    "def main():\n",
    "    arr = np.array([[1,2],[3,4]])\n",
    "    vec1 = np.array([1,2,3])\n",
    "    vec2 = np.array([4,5,6])\n",
    "    A=np.array([[1,2,-2],[2,1,-5],[1,-4,1]])\n",
    "    B=np.array([-15,-21,18])\n",
    "    eigvalue,eigvector = np.linalg.eig(arr)\n",
    "    det = np.linalg.det(arr)\n",
    "    cproduct = np.matmul(vec1,vec2.T)\n",
    "    solve = np.linalg.solve(A,B)\n",
    "    print(\"Eigenvalues:\",eigvalue)\n",
    "    print(\"Eigenvectors:\\n\",eigvector)\n",
    "    print(\"Determinant:\",det)\n",
    "    print(\"Cross product:\",cproduct)\n",
    "    print(\"Solution:\",solve)\n",
    "if __name__==\"__main__\":\n",
    "    main()"
   ]
  }
 ],
 "metadata": {
  "kernelspec": {
   "display_name": "Python 3 (ipykernel)",
   "language": "python",
   "name": "python3"
  },
  "language_info": {
   "codemirror_mode": {
    "name": "ipython",
    "version": 3
   },
   "file_extension": ".py",
   "mimetype": "text/x-python",
   "name": "python",
   "nbconvert_exporter": "python",
   "pygments_lexer": "ipython3",
   "version": "3.11.2"
  }
 },
 "nbformat": 4,
 "nbformat_minor": 5
}
